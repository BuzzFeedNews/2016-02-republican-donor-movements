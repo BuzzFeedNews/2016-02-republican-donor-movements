{
 "cells": [
  {
   "cell_type": "markdown",
   "metadata": {},
   "source": [
    "# Bush/Rubio/Cruz Donor Movement Analysis\n",
    "\n",
    "The code below looks for donors who stopped given to a certain 2016 presidential candidate's official committee, and then began giving to another candidate's committee. A few notes and caveats:\n",
    "\n",
    "- The analysis focuses on __inidividual contributors__ to the __official committees__ of each campaign. It does not examine organizational contributors or contributions to Super PACs, leadership committees, or other candidate-support groups.\n",
    "\n",
    "\n",
    "- The Federal Election Commission does not assign unique IDs to contributors. As an approximation, this code considers two contributions to have come from __the same donor if they share all three of the following attributes__:\n",
    "    - Last name\n",
    "    - First name\n",
    "    - 5-digit ZIP code\n",
    "\n",
    "\n",
    "- Because of the lack of unique IDs, and the possibility that donors change name-spellings or ZIP codes between contributions, this method may not capture all donor movement. Additionally, if two donors with the same first and last name live in the same ZIP code, they will be mistakenly labeled as the same person."
   ]
  },
  {
   "cell_type": "code",
   "execution_count": 1,
   "metadata": {
    "collapsed": true
   },
   "outputs": [],
   "source": [
    "import pandas as pd\n",
    "import io\n",
    "import glob\n",
    "import seaborn as sb\n",
    "%matplotlib inline"
   ]
  },
  {
   "cell_type": "markdown",
   "metadata": {},
   "source": [
    "## Define committee names and IDs"
   ]
  },
  {
   "cell_type": "code",
   "execution_count": 2,
   "metadata": {
    "collapsed": true
   },
   "outputs": [],
   "source": [
    "BUSH = \"Jeb 2016, Inc.\"\n",
    "RUBIO = \"Marco Rubio for President\"\n",
    "CRUZ = \"Cruz for President\""
   ]
  },
  {
   "cell_type": "code",
   "execution_count": 3,
   "metadata": {
    "collapsed": false
   },
   "outputs": [],
   "source": [
    "committees = {\n",
    "    \"C00579458\": BUSH,\n",
    "    \"C00458844\": RUBIO,\n",
    "    \"C00574624\": CRUZ,\n",
    "}"
   ]
  },
  {
   "cell_type": "markdown",
   "metadata": {},
   "source": [
    "## Load contributions from two most recent quarterly filings\n",
    "\n",
    "For the official committees supporting Walker, Bush, Rubio, Cruz, and Fiorina, we load the two most recent quarterly filings — the July and October filings. The one exception is Walker; his committee officially began in July, and so only has an October quarterly filing."
   ]
  },
  {
   "cell_type": "code",
   "execution_count": 4,
   "metadata": {
    "collapsed": false
   },
   "outputs": [],
   "source": [
    "filings = glob.glob(\"../data/fec-filings/*.fec\")"
   ]
  },
  {
   "cell_type": "code",
   "execution_count": 5,
   "metadata": {
    "collapsed": true
   },
   "outputs": [],
   "source": [
    "def profile_filing(path):\n",
    "    with open(path) as f:\n",
    "        header = f.readline()\n",
    "        f3 = pd.read_csv(io.StringIO(f.readline()), header=None).iloc[0]\n",
    "    return \"|\".join(map(str, [committees[f3[1]], f3[15], f3[16], path]))"
   ]
  },
  {
   "cell_type": "code",
   "execution_count": 6,
   "metadata": {
    "collapsed": false
   },
   "outputs": [
    {
     "name": "stdout",
     "output_type": "stream",
     "text": [
      "Cruz for President|20150401|20150630|../data/fec-filings/1024046.fec\n",
      "Cruz for President|20150701|20150930|../data/fec-filings/1032443.fec\n",
      "Cruz for President|20151001|20151231|../data/fec-filings/1046977.fec\n",
      "Jeb 2016, Inc.|20150401|20150630|../data/fec-filings/1024106.fec\n",
      "Jeb 2016, Inc.|20150701|20150930|../data/fec-filings/1029571.fec\n",
      "Jeb 2016, Inc.|20151001|20151231|../data/fec-filings/1047278.fec\n",
      "Marco Rubio for President|20150401|20150630|../data/fec-filings/1029436.fec\n",
      "Marco Rubio for President|20150701|20150930|../data/fec-filings/1031526.fec\n",
      "Marco Rubio for President|20151001|20151231|../data/fec-filings/1047126.fec\n"
     ]
    }
   ],
   "source": [
    "for p in sorted(map(profile_filing, filings)):\n",
    "    print(p)"
   ]
  },
  {
   "cell_type": "code",
   "execution_count": 7,
   "metadata": {
    "collapsed": true
   },
   "outputs": [],
   "source": [
    "with open(\"../data/contrib-fields.txt\") as f:\n",
    "    contrib_fields = f.read().strip().split(\"\\n\")"
   ]
  },
  {
   "cell_type": "code",
   "execution_count": 8,
   "metadata": {
    "collapsed": true
   },
   "outputs": [],
   "source": [
    "def get_indiv_contributions(path):\n",
    "    with open(path) as f:\n",
    "        sa17a = (line for line in f if line[:7] == '\"SA17A\"')\n",
    "        contributions = pd.read_csv(io.StringIO(\"\\n\".join(sa17a)),\n",
    "            header=None,\n",
    "            names=contrib_fields,\n",
    "            parse_dates=[\"contribution_date\"],\n",
    "            dtype={ \"contributor_zip\": str },\n",
    "            low_memory=False)\n",
    "    return contributions[\n",
    "        contributions[\"entity_type\"] == \"IND\"\n",
    "    ].copy()"
   ]
  },
  {
   "cell_type": "code",
   "execution_count": 9,
   "metadata": {
    "collapsed": false
   },
   "outputs": [],
   "source": [
    "contributions = pd.concat([ get_indiv_contributions(f) for f in filings ])"
   ]
  },
  {
   "cell_type": "code",
   "execution_count": 10,
   "metadata": {
    "collapsed": true
   },
   "outputs": [],
   "source": [
    "contributions[\"committee\"] = contributions[\"filer_committee_id_number\"].apply(committees.get)"
   ]
  },
  {
   "cell_type": "code",
   "execution_count": 11,
   "metadata": {
    "collapsed": false
   },
   "outputs": [],
   "source": [
    "contributions[\"zip_5\"] = contributions[\"contributor_zip\"].fillna(\"\").apply(lambda x: x[:5])"
   ]
  },
  {
   "cell_type": "code",
   "execution_count": 12,
   "metadata": {
    "collapsed": false
   },
   "outputs": [
    {
     "name": "stdout",
     "output_type": "stream",
     "text": [
      "232,071 total contributions\n"
     ]
    }
   ],
   "source": [
    "print(\"{0:,d} total contributions\".format(len(contributions)))"
   ]
  },
  {
   "cell_type": "markdown",
   "metadata": {},
   "source": [
    "### Total *itemitzed* individual contributions. \n",
    "\n",
    "This number does not reflect the total amount raised by the commmittees; it does not, for example, include donations from organizations; small, \"unitemized\" donations; or contributions from other committees."
   ]
  },
  {
   "cell_type": "code",
   "execution_count": 13,
   "metadata": {
    "collapsed": false
   },
   "outputs": [
    {
     "data": {
      "text/plain": [
       "committee\n",
       "Jeb 2016, Inc.               30164050.32\n",
       "Cruz for President           27715519.78\n",
       "Marco Rubio for President    23295886.56\n",
       "Name: contribution_amount, dtype: float64"
      ]
     },
     "execution_count": 13,
     "metadata": {},
     "output_type": "execute_result"
    }
   ],
   "source": [
    "contributions.groupby(\"committee\")[\"contribution_amount\"].sum().sort_values(ascending=False)"
   ]
  },
  {
   "cell_type": "markdown",
   "metadata": {},
   "source": [
    "## Add donor \"index\" as a substitute for unique ID"
   ]
  },
  {
   "cell_type": "code",
   "execution_count": 14,
   "metadata": {
    "collapsed": true
   },
   "outputs": [],
   "source": [
    "def make_donor_index(donor):\n",
    "    is_null = lambda x: pd.isnull(x) or (len(x) == 0)\n",
    "    if is_null(donor[\"zip_5\"]) \\\n",
    "    or is_null(donor[\"contributor_first_name\"]) \\\n",
    "    or is_null(donor[\"contributor_last_name\"]):\n",
    "        return None\n",
    "    fmt = \"{contributor_last_name}|{contributor_first_name}|{zip_5}\"\n",
    "    return fmt.format(**donor).upper()"
   ]
  },
  {
   "cell_type": "code",
   "execution_count": 15,
   "metadata": {
    "collapsed": false
   },
   "outputs": [],
   "source": [
    "contributions[\"donor_index\"] = contributions.apply(make_donor_index, axis=1)"
   ]
  },
  {
   "cell_type": "markdown",
   "metadata": {},
   "source": [
    "## Find first and last date of contribution to each committee"
   ]
  },
  {
   "cell_type": "code",
   "execution_count": 16,
   "metadata": {
    "collapsed": false
   },
   "outputs": [],
   "source": [
    "grp = contributions.sort_values(\"contribution_date\").groupby([ \"donor_index\", \"committee\" ])\n",
    "\n",
    "donor_firsts = grp[\"contribution_date\"].first().unstack()\n",
    "donor_lasts = grp[\"contribution_date\"].last().unstack()"
   ]
  },
  {
   "cell_type": "code",
   "execution_count": 17,
   "metadata": {
    "collapsed": true
   },
   "outputs": [],
   "source": [
    "def find_movement(from_committee, to_committee):\n",
    "    donors = donor_firsts[[ from_committee, to_committee ]]\\\n",
    "        .join(donor_lasts[[ from_committee, to_committee ]], lsuffix=\"_first\", rsuffix=\"_last\")\\\n",
    "        .dropna()\n",
    "    donors = donors[list(sorted(donors.columns))]\n",
    "    moves = donors[\n",
    "        donors[to_committee + \"_first\"] > donors[from_committee + \"_last\"]\n",
    "    ]\n",
    "    return moves"
   ]
  },
  {
   "cell_type": "code",
   "execution_count": 18,
   "metadata": {
    "collapsed": true
   },
   "outputs": [],
   "source": [
    "def plot_movement(from_committee, to_committee, color, title):\n",
    "    moves = find_movement(from_committee, to_committee)\n",
    "    monthly = moves.set_index(to_committee + \"_first\").resample(\"MS\", how=\"size\")\n",
    "    ax = monthly.plot(kind=\"bar\", width=0.85, color=color,\n",
    "        figsize=(10, 6), fontsize=12)\n",
    "    ax.set_title(title, fontsize=18, fontweight=\"bold\")\n",
    "    ax.set_ylabel(\"# Donors\", fontsize=14, fontweight=\"bold\")\n",
    "    ax.set_xlabel(\"Month\", fontsize=14, fontweight=\"bold\")\n",
    "    ax.set_ylim(0, ax.get_ylim()[1] * 1.05)\n",
    "    ax.set_xticklabels([ x.strftime(\"%Y-%m\") for x in monthly.index ], rotation=0)\n",
    "    ax.figure.set_facecolor(\"#FFFFFF\")\n",
    "    return ax"
   ]
  },
  {
   "cell_type": "markdown",
   "metadata": {},
   "source": [
    "## Approximately how many former Bush donors gave to Rubio for the first time in December?"
   ]
  },
  {
   "cell_type": "code",
   "execution_count": 19,
   "metadata": {
    "collapsed": false
   },
   "outputs": [],
   "source": [
    "bush_to_rubio = find_movement(BUSH, RUBIO)"
   ]
  },
  {
   "cell_type": "code",
   "execution_count": 20,
   "metadata": {
    "collapsed": false
   },
   "outputs": [
    {
     "data": {
      "text/plain": [
       "119"
      ]
     },
     "execution_count": 20,
     "metadata": {},
     "output_type": "execute_result"
    }
   ],
   "source": [
    "bush_to_rubio_dec = bush_to_rubio[\n",
    "    bush_to_rubio[RUBIO + \"_first\"] >= \"2015-12-01\"\n",
    "]\n",
    "len(bush_to_rubio_dec)"
   ]
  },
  {
   "cell_type": "markdown",
   "metadata": {},
   "source": [
    "## How much did those donors contribute in December?"
   ]
  },
  {
   "cell_type": "code",
   "execution_count": 21,
   "metadata": {
    "collapsed": false
   },
   "outputs": [
    {
     "data": {
      "text/plain": [
       "249500.0"
      ]
     },
     "execution_count": 21,
     "metadata": {},
     "output_type": "execute_result"
    }
   ],
   "source": [
    "contributions[\n",
    "    (contributions[\"committee\"] == RUBIO) &\n",
    "    (contributions[\"donor_index\"].isin(bush_to_rubio_dec.index))\n",
    "][\"contribution_amount\"].sum()"
   ]
  },
  {
   "cell_type": "markdown",
   "metadata": {},
   "source": [
    "## Charts"
   ]
  },
  {
   "cell_type": "code",
   "execution_count": 22,
   "metadata": {
    "collapsed": false
   },
   "outputs": [
    {
     "data": {
      "image/png": "[encoded data removed]",
      "text/plain": [
       "<matplotlib.figure.Figure at 0x10c72f390>"
      ]
     },
     "metadata": {},
     "output_type": "display_data"
    }
   ],
   "source": [
    "ax = plot_movement(BUSH, RUBIO, \"darkred\", \"Bush → Rubio\")"
   ]
  },
  {
   "cell_type": "code",
   "execution_count": 23,
   "metadata": {
    "collapsed": false
   },
   "outputs": [
    {
     "data": {
      "image/png": "[encoded data removed]",
      "text/plain": [
       "<matplotlib.figure.Figure at 0x115d55780>"
      ]
     },
     "metadata": {},
     "output_type": "display_data"
    }
   ],
   "source": [
    "ax = plot_movement(RUBIO, BUSH, \"teal\", \"Rubio → Bush\")"
   ]
  },
  {
   "cell_type": "code",
   "execution_count": 24,
   "metadata": {
    "collapsed": false
   },
   "outputs": [
    {
     "data": {
      "image/png": "[encoded data removed]",
      "text/plain": [
       "<matplotlib.figure.Figure at 0x1105c6048>"
      ]
     },
     "metadata": {},
     "output_type": "display_data"
    }
   ],
   "source": [
    "ax = plot_movement(BUSH, CRUZ, \"darkblue\", \"Bush → Cruz\")"
   ]
  },
  {
   "cell_type": "markdown",
   "metadata": {},
   "source": [
    "---\n",
    "\n",
    "---\n",
    "\n",
    "---"
   ]
  }
 ],
 "metadata": {
  "kernelspec": {
   "display_name": "Python 3",
   "language": "python",
   "name": "python3"
  },
  "language_info": {
   "codemirror_mode": {
    "name": "ipython",
    "version": 3
   },
   "file_extension": ".py",
   "mimetype": "text/x-python",
   "name": "python",
   "nbconvert_exporter": "python",
   "pygments_lexer": "ipython3",
   "version": "3.4.3"
  }
 },
 "nbformat": 4,
 "nbformat_minor": 0
}
